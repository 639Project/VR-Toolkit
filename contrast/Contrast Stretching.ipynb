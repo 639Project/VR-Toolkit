{
 "cells": [
  {
   "cell_type": "code",
   "execution_count": 1,
   "id": "46ef089d",
   "metadata": {},
   "outputs": [],
   "source": [
    "from PIL import Image"
   ]
  },
  {
   "cell_type": "code",
   "execution_count": 10,
   "id": "f3666689",
   "metadata": {},
   "outputs": [],
   "source": [
    "def contrast_stretch(img, inputimg_path, outputimg_path):\n",
    "    inputImage = Image.open(img).convert('L')\n",
    "    inputImage.save(inputimg_path)\n",
    "    outputImage = Image.new('L', inputImage.size)\n",
    "\n",
    "    width, height = inputImage.size\n",
    "\n",
    "    minIntensity = 255\n",
    "    maxInsenity = 0\n",
    "\n",
    "    for x in range(width):\n",
    "        for y in range(height):\n",
    "            intensity = inputImage.getpixel((x,y))\n",
    "\n",
    "            minIntensity = min(minIntensity, intensity)\n",
    "            maxInsenity = max(maxInsenity, intensity)\n",
    "\n",
    "    for x in range(width):\n",
    "        for y in range(height):\n",
    "            intensity = inputImage.getpixel((x,y))\n",
    "\n",
    "            newIntensity = 255 * ((intensity - minIntensity) / (maxInsenity - minIntensity))\n",
    "            outputImage.putpixel((x,y), int(newIntensity))\n",
    "\n",
    "    outputImage.save(outputimg_path)"
   ]
  },
  {
   "cell_type": "code",
   "execution_count": 11,
   "id": "575b041f",
   "metadata": {},
   "outputs": [],
   "source": [
    "img = '../images/contrast_examples/reindeer.png'\n",
    "inputimg_path = '../images/contrast_examples/reindeer_input.png'\n",
    "outputimg_path = '../images/contrast_examples/reindeer_output.png'\n",
    "\n",
    "contrast_stretch(img, inputimg_path, outputimg_path)"
   ]
  },
  {
   "cell_type": "code",
   "execution_count": 12,
   "id": "37bd541d",
   "metadata": {},
   "outputs": [],
   "source": [
    "img = '../images/contrast_examples/scene.png'\n",
    "inputimg_path = '../images/contrast_examples/scene_input.png'\n",
    "outputimg_path = '../images/contrast_examples/scene_output.png'\n",
    "\n",
    "contrast_stretch(img, inputimg_path, outputimg_path)"
   ]
  },
  {
   "cell_type": "code",
   "execution_count": 13,
   "id": "7aed6061",
   "metadata": {},
   "outputs": [],
   "source": [
    "img = '../images/contrast_examples/fruits.png'\n",
    "inputimg_path = '../images/contrast_examples/fruits_input.png'\n",
    "outputimg_path = '../images/contrast_examples/fruits_output.png'\n",
    "\n",
    "contrast_stretch(img, inputimg_path, outputimg_path)"
   ]
  },
  {
   "cell_type": "code",
   "execution_count": 14,
   "id": "eedd7cd6",
   "metadata": {},
   "outputs": [],
   "source": [
    "img = '../images/contrast_examples/test.png'\n",
    "inputimg_path = '../images/contrast_examples/test_input.png'\n",
    "outputimg_path = '../images/contrast_examples/test_output.png'\n",
    "\n",
    "contrast_stretch(img, inputimg_path, outputimg_path)"
   ]
  }
 ],
 "metadata": {
  "kernelspec": {
   "display_name": "Python 3 (ipykernel)",
   "language": "python",
   "name": "python3"
  },
  "language_info": {
   "codemirror_mode": {
    "name": "ipython",
    "version": 3
   },
   "file_extension": ".py",
   "mimetype": "text/x-python",
   "name": "python",
   "nbconvert_exporter": "python",
   "pygments_lexer": "ipython3",
   "version": "3.9.13"
  }
 },
 "nbformat": 4,
 "nbformat_minor": 5
}
