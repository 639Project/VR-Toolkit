{
 "cells": [
  {
   "cell_type": "code",
   "execution_count": 1,
   "id": "b2ee36fd",
   "metadata": {},
   "outputs": [],
   "source": [
    "from PIL import Image"
   ]
  },
  {
   "cell_type": "code",
   "execution_count": 2,
   "id": "a3dcafb7",
   "metadata": {},
   "outputs": [],
   "source": [
    "def stretch(inputimg_path, outputimg_path):\n",
    "    inputImage = Image.open(inputimg_path).convert('L')   \n",
    "    outputImage = Image.new('L', inputImage.size)\n",
    "\n",
    "    width, height = inputImage.size\n",
    "\n",
    "    minIntensity = 255\n",
    "    maxInsenity = 0\n",
    "\n",
    "    for x in range(width):\n",
    "        for y in range(height):\n",
    "            intensity = inputImage.getpixel((x,y))\n",
    "\n",
    "            minIntensity = min(minIntensity, intensity)\n",
    "            maxInsenity = max(maxInsenity, intensity)\n",
    "\n",
    "    for x in range(width):\n",
    "        for y in range(height):\n",
    "            intensity = inputImage.getpixel((x,y))\n",
    "\n",
    "            newIntensity = 255 * ((intensity - minIntensity) / (maxInsenity - minIntensity))\n",
    "            outputImage.putpixel((x,y), int(newIntensity))\n",
    "\n",
    "    outputImage.save(outputimg_path)"
   ]
  }
 ],
 "metadata": {
  "kernelspec": {
   "display_name": "Python 3 (ipykernel)",
   "language": "python",
   "name": "python3"
  },
  "language_info": {
   "codemirror_mode": {
    "name": "ipython",
    "version": 3
   },
   "file_extension": ".py",
   "mimetype": "text/x-python",
   "name": "python",
   "nbconvert_exporter": "python",
   "pygments_lexer": "ipython3",
   "version": "3.9.13"
  }
 },
 "nbformat": 4,
 "nbformat_minor": 5
}
